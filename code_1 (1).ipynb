{
  "cells": [
    {
      "cell_type": "code",
      "source": [
        "# !wget https://www.cs.cornell.edu/people/pabo/movie-review-data/review_polarity.tar.gz; tar xf review_polarity.tar.gz;\n",
        "# !ls txt_sentoken/neg | wc"
      ],
      "metadata": {
        "id": "PNviuwxrkB4K"
      },
      "execution_count": 145,
      "outputs": []
    },
    {
      "cell_type": "code",
      "execution_count": 146,
      "metadata": {
        "colab": {
          "base_uri": "https://localhost:8080/"
        },
        "id": "9Aju4WEWhYDJ",
        "outputId": "c764f64f-8e5a-4df9-87a4-f77741c5dbdc"
      },
      "outputs": [
        {
          "output_type": "stream",
          "name": "stdout",
          "text": [
            "Looking in indexes: https://pypi.org/simple, https://us-python.pkg.dev/colab-wheels/public/simple/\n",
            "Requirement already satisfied: nltk==3.5 in /usr/local/lib/python3.7/dist-packages (3.5)\n",
            "Requirement already satisfied: regex in /usr/local/lib/python3.7/dist-packages (from nltk==3.5) (2019.12.20)\n",
            "Requirement already satisfied: click in /usr/local/lib/python3.7/dist-packages (from nltk==3.5) (7.1.2)\n",
            "Requirement already satisfied: joblib in /usr/local/lib/python3.7/dist-packages (from nltk==3.5) (1.1.0)\n",
            "Requirement already satisfied: tqdm in /usr/local/lib/python3.7/dist-packages (from nltk==3.5) (4.64.0)\n"
          ]
        }
      ],
      "source": [
        "%pip install nltk==3.5"
      ]
    },
    {
      "cell_type": "code",
      "execution_count": 147,
      "metadata": {
        "colab": {
          "base_uri": "https://localhost:8080/"
        },
        "id": "pAKTzBeOhYDM",
        "outputId": "0c922274-9586-454d-f907-7aff6a987d97"
      },
      "outputs": [
        {
          "output_type": "stream",
          "name": "stdout",
          "text": [
            "Looking in indexes: https://pypi.org/simple, https://us-python.pkg.dev/colab-wheels/public/simple/\n",
            "Requirement already satisfied: textblob in /usr/local/lib/python3.7/dist-packages (0.15.3)\n",
            "Requirement already satisfied: nltk>=3.1 in /usr/local/lib/python3.7/dist-packages (from textblob) (3.5)\n",
            "Requirement already satisfied: click in /usr/local/lib/python3.7/dist-packages (from nltk>=3.1->textblob) (7.1.2)\n",
            "Requirement already satisfied: regex in /usr/local/lib/python3.7/dist-packages (from nltk>=3.1->textblob) (2019.12.20)\n",
            "Requirement already satisfied: tqdm in /usr/local/lib/python3.7/dist-packages (from nltk>=3.1->textblob) (4.64.0)\n",
            "Requirement already satisfied: joblib in /usr/local/lib/python3.7/dist-packages (from nltk>=3.1->textblob) (1.1.0)\n"
          ]
        }
      ],
      "source": [
        "%pip install textblob"
      ]
    },
    {
      "cell_type": "code",
      "execution_count": 148,
      "metadata": {
        "id": "E9WnoRmKhYDO"
      },
      "outputs": [],
      "source": [
        "import string\n",
        "from os import listdir\n",
        "from os.path import join\n",
        "from os import listdir\n",
        "from os.path import isfile, join\n",
        "from sklearn.datasets import load_files\n",
        "from nltk.corpus import stopwords\n",
        "import numpy as np\n",
        "import pandas as pd\n",
        "import matplotlib.pyplot as plt\n",
        "import string\n",
        "from nltk.stem import SnowballStemmer\n",
        "from nltk.corpus import stopwords\n",
        "from sklearn.feature_extraction.text import TfidfVectorizer\n",
        "from sklearn.model_selection import train_test_split\n",
        "import os\n",
        "from textblob import TextBlob\n",
        "from nltk.stem import PorterStemmer\n",
        "from textblob import Word\n",
        "from sklearn.feature_extraction.text import CountVectorizer,TfidfVectorizer\n",
        "import sklearn.feature_extraction.text as text\n",
        "from sklearn import model_selection, preprocessing, linear_model, naive_bayes, metrics, svm\n",
        "from sklearn.preprocessing import PolynomialFeatures"
      ]
    },
    {
      "cell_type": "code",
      "execution_count": 149,
      "metadata": {
        "colab": {
          "base_uri": "https://localhost:8080/"
        },
        "id": "SoAVumAQhYDS",
        "outputId": "4179f009-a6f1-430f-e676-bfa5674724f2"
      },
      "outputs": [
        {
          "output_type": "execute_result",
          "data": {
            "text/plain": [
              "['neg', 'pos']"
            ]
          },
          "metadata": {},
          "execution_count": 149
        }
      ],
      "source": [
        "path = 'txt_sentoken'\n",
        "folders = [f for f in listdir(path)]\n",
        "folders"
      ]
    },
    {
      "cell_type": "code",
      "execution_count": 150,
      "metadata": {
        "id": "cgb6eQMmhYDS"
      },
      "outputs": [],
      "source": [
        "files = [] #adding the name of the individual classes to our original path\n",
        "for i in folders:\n",
        "    all_files = os.path.join(path, i)\n",
        "    files.append([f for f in listdir(all_files)])"
      ]
    },
    {
      "cell_type": "code",
      "execution_count": 151,
      "metadata": {
        "colab": {
          "base_uri": "https://localhost:8080/"
        },
        "id": "AWnReDO1hYDT",
        "outputId": "aab751fe-9005-4dd3-d8af-75a1e2a87287"
      },
      "outputs": [
        {
          "output_type": "execute_result",
          "data": {
            "text/plain": [
              "1000"
            ]
          },
          "metadata": {},
          "execution_count": 151
        }
      ],
      "source": [
        "len(files[0])"
      ]
    },
    {
      "cell_type": "code",
      "execution_count": 152,
      "metadata": {
        "id": "-3ratKumhYDU"
      },
      "outputs": [],
      "source": [
        "Y = [] #making a list of all the files in all our individual documents \n",
        "for i in folders: \n",
        "    all_files = join(path, i)\n",
        "    num_files = len(listdir(all_files))\n",
        "    for j in range(num_files):\n",
        "        Y.append(i)"
      ]
    },
    {
      "cell_type": "code",
      "execution_count": 153,
      "metadata": {
        "colab": {
          "base_uri": "https://localhost:8080/"
        },
        "id": "LhqP2wQNhYDV",
        "outputId": "213b16a3-ace0-447d-84cf-9ec58aa39f1a"
      },
      "outputs": [
        {
          "output_type": "execute_result",
          "data": {
            "text/plain": [
              "2000"
            ]
          },
          "metadata": {},
          "execution_count": 153
        }
      ],
      "source": [
        "len(Y)"
      ]
    },
    {
      "cell_type": "code",
      "execution_count": 154,
      "metadata": {
        "id": "1vdHqLE-hYDV"
      },
      "outputs": [],
      "source": [
        "X = [] #creating a pathway to each individual document\n",
        "for i in folders:\n",
        "    file_num = listdir(join(path, i))\n",
        "    for j in file_num:\n",
        "        X.append(os.path.join(path,os.path.join(i,j)))"
      ]
    },
    {
      "cell_type": "code",
      "execution_count": 155,
      "metadata": {
        "colab": {
          "base_uri": "https://localhost:8080/",
          "height": 35
        },
        "id": "X1nMuCszhYDW",
        "outputId": "5bda6587-1b67-4f8d-86b5-69f93975412a"
      },
      "outputs": [
        {
          "output_type": "execute_result",
          "data": {
            "text/plain": [
              "'txt_sentoken/pos/cv586_7543.txt'"
            ],
            "application/vnd.google.colaboratory.intrinsic+json": {
              "type": "string"
            }
          },
          "metadata": {},
          "execution_count": 155
        }
      ],
      "source": [
        "X[1050]"
      ]
    },
    {
      "cell_type": "code",
      "execution_count": 156,
      "metadata": {
        "id": "Ta8t3JbChYDX"
      },
      "outputs": [],
      "source": [
        "for i in range(len(X)):\n",
        "    f = open(X[i],'r')\n",
        "    X[i] = f.read()\n"
      ]
    },
    {
      "cell_type": "code",
      "execution_count": 157,
      "metadata": {
        "colab": {
          "base_uri": "https://localhost:8080/"
        },
        "id": "pKpaMn80hYDX",
        "outputId": "66c03e16-e137-490b-b2e0-592365762dcf"
      },
      "outputs": [
        {
          "output_type": "stream",
          "name": "stderr",
          "text": [
            "[nltk_data] Downloading package stopwords to /root/nltk_data...\n",
            "[nltk_data]   Package stopwords is already up-to-date!\n",
            "[nltk_data] Downloading package wordnet to /root/nltk_data...\n",
            "[nltk_data]   Package wordnet is already up-to-date!\n"
          ]
        }
      ],
      "source": [
        "import nltk\n",
        "nltk.download('stopwords')\n",
        "nltk.download('wordnet')\n",
        "stop = stopwords.words('english')"
      ]
    },
    {
      "cell_type": "code",
      "execution_count": 158,
      "metadata": {
        "id": "Q1dtUyZrhYDY"
      },
      "outputs": [],
      "source": [
        "def Tolower (x):\n",
        "    words = []\n",
        "    words = x.split()\n",
        "    text = \"\"\n",
        "    text = \" \".join(word.lower() for word in words)\n",
        "    return text;\n",
        "\n",
        "def removeStopWord (x):\n",
        "    words = []\n",
        "    words = x.split()\n",
        "    text = \"\"\n",
        "    text = \" \".join(word for word in words if word not in stop)\n",
        "    return text;\n",
        "\n",
        "st = PorterStemmer()\n",
        "\n",
        "def stemming (x):\n",
        "    words = []\n",
        "    words = x.split()\n",
        "    text = \"\"\n",
        "    text = \" \".join([st.stem(word) for word in words])\n",
        "    return text;\n",
        "\n",
        "def Lemmit (x):\n",
        "    words = []\n",
        "    words = x.split()\n",
        "    text = \"\"\n",
        "    text = \" \".join([Word(word).lemmatize() for word in x.split()])\n",
        "    return text;"
      ]
    },
    {
      "cell_type": "code",
      "execution_count": 159,
      "metadata": {
        "id": "TKQJ3nIThYDZ"
      },
      "outputs": [],
      "source": [
        "for i in range(len(X)):\n",
        "    X[i] = Tolower(X[i])\n",
        "    X[i] = removeStopWord(X[i])\n",
        "    X[i] = stemming(X[i])\n",
        "    X[i] = Lemmit(X[i])"
      ]
    },
    {
      "cell_type": "code",
      "execution_count": 160,
      "metadata": {
        "id": "9zFudZgQhYDa"
      },
      "outputs": [],
      "source": [
        "from sklearn.model_selection import train_test_split\n",
        "X_train, X_test, Y_train, Y_test = train_test_split(X, Y, test_size = 0.2, random_state = 0)\n",
        "encoder = preprocessing.LabelEncoder()\n",
        "Y_train = encoder.fit_transform(Y_train)\n",
        "Y_test = encoder.fit_transform(Y_test)\n"
      ]
    },
    {
      "cell_type": "code",
      "execution_count": 161,
      "metadata": {
        "colab": {
          "base_uri": "https://localhost:8080/"
        },
        "id": "L2Klm9QphYDb",
        "outputId": "3f8b205d-7c4d-4d72-ca42-a7f2fa5bb14f"
      },
      "outputs": [
        {
          "output_type": "execute_result",
          "data": {
            "text/plain": [
              "array([0.06642017, 0.03838612, 0.1225346 , ..., 0.0234762 , 0.07305025,\n",
              "       0.02172191])"
            ]
          },
          "metadata": {},
          "execution_count": 161
        }
      ],
      "source": [
        "tfidf_vect = TfidfVectorizer(analyzer='word', token_pattern=r'\\w{1,}', max_features=5000)\n",
        "tfidf_vect.fit(X)\n",
        "xtrain_tfidf =  tfidf_vect.transform(X_train)\n",
        "xvalid_tfidf =  tfidf_vect.transform(X_test)\n",
        "\n",
        "xtrain_tfidf.data"
      ]
    },
    {
      "cell_type": "code",
      "execution_count": 162,
      "metadata": {
        "colab": {
          "base_uri": "https://localhost:8080/"
        },
        "id": "QYibX6dwhYDc",
        "outputId": "cb91472b-26f3-4ece-dbaf-1d19845b5455"
      },
      "outputs": [
        {
          "output_type": "stream",
          "name": "stdout",
          "text": [
            "Accuracy:  0.8775\n"
          ]
        }
      ],
      "source": [
        "classifier = linear_model.LogisticRegression()\n",
        "classifier = svm.SVC(kernel=\"linear\")\n",
        "classifier.fit(xtrain_tfidf, Y_train)\n",
        "# predict the labels on validation dataset\n",
        "predictions = classifier.predict(xvalid_tfidf)\n",
        "accuracy= metrics.accuracy_score(predictions, Y_test)\n",
        "print (\"Accuracy: \", accuracy)"
      ]
    },
    {
      "cell_type": "code",
      "execution_count": 163,
      "metadata": {
        "id": "fnfyW4prhYDd"
      },
      "outputs": [],
      "source": [
        "def doTextCleaning(X):\n",
        "    X= Tolower(str(X))\n",
        "    X= removeStopWord(X)\n",
        "    X= stemming(X)\n",
        "    X= Lemmit(X)\n",
        "\n",
        "    return X"
      ]
    },
    {
      "cell_type": "code",
      "execution_count": 164,
      "metadata": {
        "id": "tIBHHEC_hYDe"
      },
      "outputs": [],
      "source": [
        "newReview = \"\"\"plot : two teen couples go to a church party , drink and then drive . \n",
        "they get into an accident . \n",
        "one of the guys dies , but his girlfriend continues to see him in her life , and has nightmares . \n",
        "what's the deal ? \n",
        "watch the movie and \" sorta \" find out . . . \n",
        "critique : a mind-fuck movie for the teen generation that touches on a very cool idea , but presents it in a very bad package . \n",
        "which is what makes this review an even harder one to write , since i generally applaud films which attempt to break the mold , mess with your head and such ( lost highway & memento ) , but there are good and bad ways of making all types of films , and these folks just didn't snag this one correctly . \n",
        "they seem to have taken this pretty neat concept , but executed it terribly . \n",
        "so what are the problems with the movie ? \n",
        "well , its main problem is that it's simply too jumbled . \n",
        "it starts off \" normal \" but then downshifts into this \" fantasy \" world in which you , as an audience member , have no idea what's going on . \n",
        "there are dreams , there are characters coming back from the dead , there are others who look like the dead , there are strange apparitions , there are disappearances , there are a looooot of chase scenes , there are tons of weird things that happen , and most of it is simply not explained . \n",
        "now i personally don't mind trying to unravel a film every now and then , but when all it does is give me the same clue over and over again , i get kind of fed up after a while , which is this film's biggest problem . \n",
        "it's obviously got this big secret to hide , but it seems to want to hide it completely until its final five minutes . \n",
        "and do they make things entertaining , thrilling or even engaging , in the meantime ? \n",
        "not really . \n",
        "the sad part is that the arrow and i both dig on flicks like this , so we actually figured most of it out by the half-way point , so all of the strangeness after that did start to make a little bit of sense , but it still didn't the make the film all that more entertaining . \n",
        "i guess the bottom line with movies like this is that you should always make sure that the audience is \" into it \" even before they are given the secret password to enter your world of understanding . \n",
        "i mean , showing melissa sagemiller running away from visions for about 20 minutes throughout the movie is just plain lazy ! ! \n",
        "okay , we get it . . . there \n",
        "are people chasing her and we don't know who they are . \n",
        "do we really need to see it over and over again ? \n",
        "how about giving us different scenes offering further insight into all of the strangeness going down in the movie ? \n",
        "apparently , the studio took this film away from its director and chopped it up themselves , and it shows . \n",
        "there might've been a pretty decent teen mind-fuck movie in here somewhere , but i guess \" the suits \" decided that turning it into a music video with little edge , would make more sense . \n",
        "the actors are pretty good for the most part , although wes bentley just seemed to be playing the exact same character that he did in american beauty , only in a new neighborhood . \n",
        "but my biggest kudos go out to sagemiller , who holds her own throughout the entire film , and actually has you feeling her character's unraveling . \n",
        "overall , the film doesn't stick because it doesn't entertain , it's confusing , it rarely excites and it feels pretty redundant for most of its runtime , despite a pretty cool ending and explanation to all of the craziness that came before it . \n",
        "oh , and by the way , this is not a horror or teen slasher flick . . . it's \n",
        "just packaged to look that way because someone is apparently assuming that the genre is still hot with the kids . \n",
        "it also wrapped production two years ago and has been sitting on the shelves ever since . \n",
        "whatever . . . skip \n",
        "it ! \n",
        "where's joblo coming from ? \n",
        "a nightmare of elm street 3 ( 7/10 ) - blair witch 2 ( 7/10 ) - the crow ( 9/10 ) - the crow : salvation ( 4/10 ) - lost highway ( 10/10 ) - memento ( 10/10 ) - the others ( 9/10 ) - stir of echoes ( 8/10 )\"\"\"\n",
        "\n",
        "def predictNewReview(newReview):\n",
        "   # newReview = input(\"Type the Review: \")\n",
        "    if newReview == '':\n",
        "        print('Invalid Review')  \n",
        "    else:\n",
        "        newReview = str (newReview)\n",
        "        newReview = doTextCleaning(newReview)\n",
        "        newReview = tfidf_vect.transform([newReview]).toarray()  \n",
        "        prediction =  classifier.predict(newReview)\n",
        "        print(prediction)\n",
        "        if prediction[0] == 1:\n",
        "            print( \"Positive Review\" )\n",
        "        else:        \n",
        "            print( \"Negative Review\")\n",
        "        return prediction[0]"
      ]
    },
    {
      "cell_type": "code",
      "source": [
        "predictNewReview(newReview)"
      ],
      "metadata": {
        "colab": {
          "base_uri": "https://localhost:8080/"
        },
        "id": "xpHnitRzopl3",
        "outputId": "0692ca3c-c4a1-4f4f-ae52-5d041e8bffc2"
      },
      "execution_count": 165,
      "outputs": [
        {
          "output_type": "stream",
          "name": "stdout",
          "text": [
            "[0]\n",
            "Negative Review\n"
          ]
        },
        {
          "output_type": "execute_result",
          "data": {
            "text/plain": [
              "0"
            ]
          },
          "metadata": {},
          "execution_count": 165
        }
      ]
    },
    {
      "cell_type": "code",
      "source": [
        "def makeModel(model):\n",
        "  model.fit(xtrain_tfidf, Y_train)\n",
        "  # predict the labels on validation dataset\n",
        "  predictions = model.predict(xvalid_tfidf)\n",
        "  predictions[predictions > 0.5] = 1\n",
        "  predictions[predictions < 0.5] = 0\n",
        "  accuracy= metrics.accuracy_score(predictions, Y_test)\n",
        "  print (\"Accuracy: \", accuracy)\n",
        "  return accuracy"
      ],
      "metadata": {
        "id": "bERrI_iqpmVQ"
      },
      "execution_count": 166,
      "outputs": []
    },
    {
      "cell_type": "code",
      "source": [
        "lin_svm_acc = makeModel(svm.SVC(kernel=\"linear\"))\n",
        "lin_acc = makeModel(linear_model.LinearRegression())\n",
        "logistic_acc = makeModel(linear_model.LogisticRegression())"
      ],
      "metadata": {
        "colab": {
          "base_uri": "https://localhost:8080/"
        },
        "id": "2WqOFHpop7EK",
        "outputId": "fa431f1e-ec7a-4fb7-82ea-fe7d7a6b541e"
      },
      "execution_count": 167,
      "outputs": [
        {
          "output_type": "stream",
          "name": "stdout",
          "text": [
            "Accuracy:  0.8775\n",
            "Accuracy:  0.8425\n",
            "Accuracy:  0.8625\n"
          ]
        }
      ]
    },
    {
      "cell_type": "code",
      "source": [
        "print(lin_svm_acc)\n",
        "data = {\"LinearSVM\": lin_svm_acc, \"Linearregression\": lin_acc, \"LogisticRegression\": logistic_acc}\n",
        "print(data)\n",
        "keys = list(data.keys())\n",
        "values = [(value * 100) for value in data.values()]\n",
        "print(values)\n",
        "plt.barh(keys, values, color ='green', align=\"center\", alpha=0.5)\n",
        " \n",
        "plt.xlabel(\"Accuracy %\")\n",
        "plt.ylabel(\"Model\")\n",
        "plt.title(\"Summary of accuracy per model\")\n",
        "plt.show()"
      ],
      "metadata": {
        "colab": {
          "base_uri": "https://localhost:8080/",
          "height": 347
        },
        "id": "2DH1fQD5qM3X",
        "outputId": "8d60e31b-79c3-4c52-cec0-6edb511b0855"
      },
      "execution_count": 168,
      "outputs": [
        {
          "output_type": "stream",
          "name": "stdout",
          "text": [
            "0.8775\n",
            "{'LinearSVM': 0.8775, 'Linearregression': 0.8425, 'LogisticRegression': 0.8625}\n",
            "[87.75, 84.25, 86.25]\n"
          ]
        },
        {
          "output_type": "display_data",
          "data": {
            "text/plain": [
              "<Figure size 432x288 with 1 Axes>"
            ],
            "image/png": "[encoded data removed]"
          },
          "metadata": {
            "needs_background": "light"
          }
        }
      ]
    },
    {
      "cell_type": "code",
      "source": [
        ""
      ],
      "metadata": {
        "id": "oaardvA12fgN"
      },
      "execution_count": 168,
      "outputs": []
    }
  ],
  "metadata": {
    "interpreter": {
      "hash": "67f1bc370ea6c8eaabad58bda6e297384f65972e30b74d50f7cb817d27af9738"
    },
    "kernelspec": {
      "display_name": "Python 3.8.5 ('base')",
      "language": "python",
      "name": "python3"
    },
    "language_info": {
      "codemirror_mode": {
        "name": "ipython",
        "version": 3
      },
      "file_extension": ".py",
      "mimetype": "text/x-python",
      "name": "python",
      "nbconvert_exporter": "python",
      "pygments_lexer": "ipython3",
      "version": "3.8.5"
    },
    "orig_nbformat": 4,
    "colab": {
      "name": "code.ipynb",
      "provenance": [],
      "collapsed_sections": []
    }
  },
  "nbformat": 4,
  "nbformat_minor": 0
}